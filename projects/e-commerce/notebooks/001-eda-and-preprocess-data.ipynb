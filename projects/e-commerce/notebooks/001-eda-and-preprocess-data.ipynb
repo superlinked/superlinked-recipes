{
 "cells": [
  {
   "cell_type": "code",
   "execution_count": 2,
   "metadata": {},
   "outputs": [],
   "source": [
    "from gensim.models import Word2Vec\n",
    "import pandas as pd\n",
    "import numpy as np\n",
    "import urllib.request\n",
    "## image embeddings\n",
    "from PIL import Image\n",
    "import requests\n",
    "from io import BytesIO\n",
    "import gcsfs\n",
    "import pickle"
   ]
  },
  {
   "cell_type": "markdown",
   "metadata": {},
   "source": [
    "## Superlinked setup"
   ]
  },
  {
   "cell_type": "markdown",
   "metadata": {},
   "source": [
    "In this notebook we will walk you through all the steps required to setup a superlinked system.\n",
    "We will use a small set of the products data to run all defenitions E2E.\n",
    "This step is the first step in the \"Superlinked development cycle\" which will allow you to experiment with index and query defenitions.\n",
    "Next step will be following the local server deployment together with a VDB to interact with your full data and make adustments."
   ]
  },
  {
   "cell_type": "markdown",
   "metadata": {},
   "source": [
    "### Prerequisites"
   ]
  },
  {
   "cell_type": "markdown",
   "metadata": {},
   "source": [
    "Before running this notebook make sure:\n",
    "\n",
    "1. You have superlinked notebooks enviorment setup \n",
    "2. You followed the item2vec tutorial and got your model trained on your data (this step is optional as you can still use our data for this)"
   ]
  },
  {
   "cell_type": "markdown",
   "metadata": {},
   "source": [
    "### Read Data"
   ]
  },
  {
   "cell_type": "markdown",
   "metadata": {},
   "source": [
    "Reading the products data and the saved item2vec pickled model.\n",
    "Refer to the README.md file under `item2vec/` for more information about training item2vec model."
   ]
  },
  {
   "cell_type": "code",
   "execution_count": 3,
   "metadata": {},
   "outputs": [],
   "source": [
    "products = pd.read_json('https://storage.googleapis.com/superlinked-recipes/ecommerce-recsys/data/products.json', orient='records', lines=True)\n",
    "events = pd.read_json('https://storage.googleapis.com/superlinked-recipes/ecommerce-recsys/data/events.json', orient='records', lines=True, nrows=1000)\n",
    "item2vec_model = Word2Vec.load(\"https://storage.googleapis.com/superlinked-recipes/ecommerce-recsys/models/w2v.pickle\")"
   ]
  },
  {
   "cell_type": "markdown",
   "metadata": {},
   "source": [
    "## Data overview"
   ]
  },
  {
   "cell_type": "markdown",
   "metadata": {},
   "source": [
    "### Products"
   ]
  },
  {
   "cell_type": "code",
   "execution_count": 4,
   "metadata": {},
   "outputs": [
    {
     "data": {
      "text/html": [
       "<div>\n",
       "<style scoped>\n",
       "    .dataframe tbody tr th:only-of-type {\n",
       "        vertical-align: middle;\n",
       "    }\n",
       "\n",
       "    .dataframe tbody tr th {\n",
       "        vertical-align: top;\n",
       "    }\n",
       "\n",
       "    .dataframe thead th {\n",
       "        text-align: right;\n",
       "    }\n",
       "</style>\n",
       "<table border=\"1\" class=\"dataframe\">\n",
       "  <thead>\n",
       "    <tr style=\"text-align: right;\">\n",
       "      <th></th>\n",
       "      <th>id</th>\n",
       "      <th>is_active</th>\n",
       "      <th>product_image</th>\n",
       "      <th>description</th>\n",
       "      <th>topic</th>\n",
       "      <th>brand</th>\n",
       "      <th>product_type</th>\n",
       "      <th>popularity</th>\n",
       "      <th>item_w2v</th>\n",
       "      <th>price</th>\n",
       "    </tr>\n",
       "  </thead>\n",
       "  <tbody>\n",
       "    <tr>\n",
       "      <th>0</th>\n",
       "      <td>1383239</td>\n",
       "      <td>1</td>\n",
       "      <td>https://storage.googleapis.com/superlinked-rec...</td>\n",
       "      <td>Made from soft, durable and highly insulating ...</td>\n",
       "      <td>male_clothing</td>\n",
       "      <td>regatta</td>\n",
       "      <td>sweatshirts_&amp;_fleeces</td>\n",
       "      <td>0.048134</td>\n",
       "      <td>[0.0, 0.0, 0.0, 0.0, 0.0, 0.0, 0.0, 0.0, 0.0, ...</td>\n",
       "      <td>26</td>\n",
       "    </tr>\n",
       "    <tr>\n",
       "      <th>1</th>\n",
       "      <td>14807127</td>\n",
       "      <td>1</td>\n",
       "      <td>https://storage.googleapis.com/superlinked-rec...</td>\n",
       "      <td>Brand: Parks London Collection: Vintage Aromat...</td>\n",
       "      <td>unisex_home</td>\n",
       "      <td>parks_london</td>\n",
       "      <td>candles_&amp;_home_fragrance</td>\n",
       "      <td>0.490409</td>\n",
       "      <td>[0.0, 0.0, 0.0, 0.0, 0.0, 0.0, 0.0, 0.0, 0.0, ...</td>\n",
       "      <td>38</td>\n",
       "    </tr>\n",
       "    <tr>\n",
       "      <th>2</th>\n",
       "      <td>14807133</td>\n",
       "      <td>1</td>\n",
       "      <td>https://storage.googleapis.com/superlinked-rec...</td>\n",
       "      <td>Brand: Parks London Collection: Vintage Aromat...</td>\n",
       "      <td>unisex_home</td>\n",
       "      <td>parks_london</td>\n",
       "      <td>candles_&amp;_home_fragrance</td>\n",
       "      <td>0.490409</td>\n",
       "      <td>[0.0, 0.0, 0.0, 0.0, 0.0, 0.0, 0.0, 0.0, 0.0, ...</td>\n",
       "      <td>38</td>\n",
       "    </tr>\n",
       "    <tr>\n",
       "      <th>3</th>\n",
       "      <td>14808099</td>\n",
       "      <td>1</td>\n",
       "      <td>https://storage.googleapis.com/superlinked-rec...</td>\n",
       "      <td>Easy to clean Fingerprint proof Ten year guara...</td>\n",
       "      <td>unisex_home</td>\n",
       "      <td>brabantia</td>\n",
       "      <td>kitchen_storage</td>\n",
       "      <td>0.272473</td>\n",
       "      <td>[0.217785418, 0.0114847049, -0.0036433504, -0....</td>\n",
       "      <td>64</td>\n",
       "    </tr>\n",
       "    <tr>\n",
       "      <th>4</th>\n",
       "      <td>14809572</td>\n",
       "      <td>1</td>\n",
       "      <td>https://storage.googleapis.com/superlinked-rec...</td>\n",
       "      <td>Brand: Parks London Collection: Parks Exclusiv...</td>\n",
       "      <td>unisex_home</td>\n",
       "      <td>parks_london</td>\n",
       "      <td>candles_&amp;_home_fragrance</td>\n",
       "      <td>0.490409</td>\n",
       "      <td>[0.2159118056, 0.0520496592, 0.0123813841, -0....</td>\n",
       "      <td>30</td>\n",
       "    </tr>\n",
       "  </tbody>\n",
       "</table>\n",
       "</div>"
      ],
      "text/plain": [
       "         id  is_active                                      product_image  \\\n",
       "0   1383239          1  https://storage.googleapis.com/superlinked-rec...   \n",
       "1  14807127          1  https://storage.googleapis.com/superlinked-rec...   \n",
       "2  14807133          1  https://storage.googleapis.com/superlinked-rec...   \n",
       "3  14808099          1  https://storage.googleapis.com/superlinked-rec...   \n",
       "4  14809572          1  https://storage.googleapis.com/superlinked-rec...   \n",
       "\n",
       "                                         description          topic  \\\n",
       "0  Made from soft, durable and highly insulating ...  male_clothing   \n",
       "1  Brand: Parks London Collection: Vintage Aromat...    unisex_home   \n",
       "2  Brand: Parks London Collection: Vintage Aromat...    unisex_home   \n",
       "3  Easy to clean Fingerprint proof Ten year guara...    unisex_home   \n",
       "4  Brand: Parks London Collection: Parks Exclusiv...    unisex_home   \n",
       "\n",
       "          brand              product_type  popularity  \\\n",
       "0       regatta     sweatshirts_&_fleeces    0.048134   \n",
       "1  parks_london  candles_&_home_fragrance    0.490409   \n",
       "2  parks_london  candles_&_home_fragrance    0.490409   \n",
       "3     brabantia           kitchen_storage    0.272473   \n",
       "4  parks_london  candles_&_home_fragrance    0.490409   \n",
       "\n",
       "                                            item_w2v  price  \n",
       "0  [0.0, 0.0, 0.0, 0.0, 0.0, 0.0, 0.0, 0.0, 0.0, ...     26  \n",
       "1  [0.0, 0.0, 0.0, 0.0, 0.0, 0.0, 0.0, 0.0, 0.0, ...     38  \n",
       "2  [0.0, 0.0, 0.0, 0.0, 0.0, 0.0, 0.0, 0.0, 0.0, ...     38  \n",
       "3  [0.217785418, 0.0114847049, -0.0036433504, -0....     64  \n",
       "4  [0.2159118056, 0.0520496592, 0.0123813841, -0....     30  "
      ]
     },
     "execution_count": 4,
     "metadata": {},
     "output_type": "execute_result"
    }
   ],
   "source": [
    "products.head()"
   ]
  },
  {
   "cell_type": "markdown",
   "metadata": {},
   "source": [
    "For our data we have:\n",
    "id - the product id\n",
    "* product image - the url holding the image for the product\n",
    "* description - html like string representing the product description.\n",
    "* is active - a field indicating if item is in stock or not (not that this is a dynamic field)\n",
    "* topic - the high level category of the product\n",
    "* product_type - the type of the product\n",
    "* brand - the brand of the product\n",
    "* color - a binned representation of the product (we already have this data encoded in the image)\n",
    "* price - the item price\n",
    "* item_w2v - pre extracted embeddings\n",
    "* popularity - some popularity coeficient (could be avg purchases per day/week for example. Just make sure to normalize it for different categoris/types as some product categories get sold more quickly then others and you wouldn't want to represnt this bias.)."
   ]
  },
  {
   "cell_type": "markdown",
   "metadata": {},
   "source": [
    "### Events"
   ]
  },
  {
   "cell_type": "markdown",
   "metadata": {},
   "source": [
    "The events dataframe schema is aligned with the way we will define the evetns effect in SL.\n",
    "This is also the same event file we prepared for the item2vec training process."
   ]
  },
  {
   "cell_type": "code",
   "execution_count": 5,
   "metadata": {},
   "outputs": [
    {
     "data": {
      "text/html": [
       "<div>\n",
       "<style scoped>\n",
       "    .dataframe tbody tr th:only-of-type {\n",
       "        vertical-align: middle;\n",
       "    }\n",
       "\n",
       "    .dataframe tbody tr th {\n",
       "        vertical-align: top;\n",
       "    }\n",
       "\n",
       "    .dataframe thead th {\n",
       "        text-align: right;\n",
       "    }\n",
       "</style>\n",
       "<table border=\"1\" class=\"dataframe\">\n",
       "  <thead>\n",
       "    <tr style=\"text-align: right;\">\n",
       "      <th></th>\n",
       "      <th>user</th>\n",
       "      <th>session_id</th>\n",
       "      <th>product</th>\n",
       "      <th>event_type</th>\n",
       "      <th>created_at</th>\n",
       "    </tr>\n",
       "  </thead>\n",
       "  <tbody>\n",
       "    <tr>\n",
       "      <th>0</th>\n",
       "      <td>9999211</td>\n",
       "      <td>1724940658471</td>\n",
       "      <td>18938567</td>\n",
       "      <td>product_viewed</td>\n",
       "      <td>2024-08-29 14:27:10.442</td>\n",
       "    </tr>\n",
       "    <tr>\n",
       "      <th>1</th>\n",
       "      <td>2375656</td>\n",
       "      <td>1721633128877</td>\n",
       "      <td>18904223</td>\n",
       "      <td>product_viewed</td>\n",
       "      <td>2024-07-22 07:31:34.284</td>\n",
       "    </tr>\n",
       "    <tr>\n",
       "      <th>2</th>\n",
       "      <td>2391885</td>\n",
       "      <td>1718520365363</td>\n",
       "      <td>18888360</td>\n",
       "      <td>product_viewed</td>\n",
       "      <td>2024-06-16 06:46:54.527</td>\n",
       "    </tr>\n",
       "    <tr>\n",
       "      <th>3</th>\n",
       "      <td>2097335</td>\n",
       "      <td>1724517034717</td>\n",
       "      <td>18881606</td>\n",
       "      <td>product_viewed</td>\n",
       "      <td>2024-08-24 16:34:12.575</td>\n",
       "    </tr>\n",
       "    <tr>\n",
       "      <th>4</th>\n",
       "      <td>2363497</td>\n",
       "      <td>1724590923651</td>\n",
       "      <td>18890987</td>\n",
       "      <td>product_viewed</td>\n",
       "      <td>2024-08-25 13:03:09.432</td>\n",
       "    </tr>\n",
       "  </tbody>\n",
       "</table>\n",
       "</div>"
      ],
      "text/plain": [
       "      user     session_id   product      event_type              created_at\n",
       "0  9999211  1724940658471  18938567  product_viewed 2024-08-29 14:27:10.442\n",
       "1  2375656  1721633128877  18904223  product_viewed 2024-07-22 07:31:34.284\n",
       "2  2391885  1718520365363  18888360  product_viewed 2024-06-16 06:46:54.527\n",
       "3  2097335  1724517034717  18881606  product_viewed 2024-08-24 16:34:12.575\n",
       "4  2363497  1724590923651  18890987  product_viewed 2024-08-25 13:03:09.432"
      ]
     },
     "execution_count": 5,
     "metadata": {},
     "output_type": "execute_result"
    }
   ],
   "source": [
    "events.head()"
   ]
  },
  {
   "cell_type": "markdown",
   "metadata": {},
   "source": [
    "## Data preperation overview"
   ]
  },
  {
   "cell_type": "markdown",
   "metadata": {},
   "source": [
    "In this section we will show you how you could extract the item2vec embeddings for each item based on your  trained model."
   ]
  },
  {
   "cell_type": "markdown",
   "metadata": {},
   "source": [
    "For simplicity we will use a small smaple from our data for this section."
   ]
  },
  {
   "cell_type": "code",
   "execution_count": 12,
   "metadata": {},
   "outputs": [],
   "source": [
    "products_sample = products.sample(100).reset_index(drop=True)"
   ]
  },
  {
   "cell_type": "markdown",
   "metadata": {},
   "source": [
    "For this sample, let's drop the current item2vec embeddings."
   ]
  },
  {
   "cell_type": "code",
   "execution_count": 13,
   "metadata": {},
   "outputs": [],
   "source": [
    "products_sample.drop(columns=['item_w2v'], inplace=True)"
   ]
  },
  {
   "cell_type": "code",
   "execution_count": 14,
   "metadata": {},
   "outputs": [
    {
     "data": {
      "text/html": [
       "<div>\n",
       "<style scoped>\n",
       "    .dataframe tbody tr th:only-of-type {\n",
       "        vertical-align: middle;\n",
       "    }\n",
       "\n",
       "    .dataframe tbody tr th {\n",
       "        vertical-align: top;\n",
       "    }\n",
       "\n",
       "    .dataframe thead th {\n",
       "        text-align: right;\n",
       "    }\n",
       "</style>\n",
       "<table border=\"1\" class=\"dataframe\">\n",
       "  <thead>\n",
       "    <tr style=\"text-align: right;\">\n",
       "      <th></th>\n",
       "      <th>id</th>\n",
       "      <th>is_active</th>\n",
       "      <th>product_image</th>\n",
       "      <th>description</th>\n",
       "      <th>topic</th>\n",
       "      <th>brand</th>\n",
       "      <th>product_type</th>\n",
       "      <th>popularity</th>\n",
       "      <th>price</th>\n",
       "    </tr>\n",
       "  </thead>\n",
       "  <tbody>\n",
       "    <tr>\n",
       "      <th>0</th>\n",
       "      <td>19059370</td>\n",
       "      <td>1</td>\n",
       "      <td>https://storage.googleapis.com/superlinked-rec...</td>\n",
       "      <td>MidiShort SleevesV-neckComposition: 100% Polye...</td>\n",
       "      <td>female_clothing</td>\n",
       "      <td>joseph_ribkoff</td>\n",
       "      <td>dresses</td>\n",
       "      <td>0.034502</td>\n",
       "      <td>199</td>\n",
       "    </tr>\n",
       "    <tr>\n",
       "      <th>1</th>\n",
       "      <td>19108201</td>\n",
       "      <td>1</td>\n",
       "      <td>https://storage.googleapis.com/superlinked-rec...</td>\n",
       "      <td>A-LineZip FasteningMini LengthComposition: 51%...</td>\n",
       "      <td>female_clothing</td>\n",
       "      <td>hobbs_london</td>\n",
       "      <td>skirts</td>\n",
       "      <td>0.108556</td>\n",
       "      <td>110</td>\n",
       "    </tr>\n",
       "    <tr>\n",
       "      <th>2</th>\n",
       "      <td>19126209</td>\n",
       "      <td>1</td>\n",
       "      <td>https://storage.googleapis.com/superlinked-rec...</td>\n",
       "      <td>Kuba rugs draw their inspiration from Zairean ...</td>\n",
       "      <td>unisex_home</td>\n",
       "      <td>louis_de_poortere</td>\n",
       "      <td>rugs</td>\n",
       "      <td>0.076656</td>\n",
       "      <td>1190</td>\n",
       "    </tr>\n",
       "    <tr>\n",
       "      <th>3</th>\n",
       "      <td>19105206</td>\n",
       "      <td>1</td>\n",
       "      <td>https://storage.googleapis.com/superlinked-rec...</td>\n",
       "      <td>For exceptional durability, this bespoke duvet...</td>\n",
       "      <td>unisex_home</td>\n",
       "      <td>surrey_down</td>\n",
       "      <td>duvets_&amp;_pillows</td>\n",
       "      <td>0.080633</td>\n",
       "      <td>681</td>\n",
       "    </tr>\n",
       "    <tr>\n",
       "      <th>4</th>\n",
       "      <td>18916655</td>\n",
       "      <td>1</td>\n",
       "      <td>https://storage.googleapis.com/superlinked-rec...</td>\n",
       "      <td>Brand: Miller Harris Product Type: Lumiere Dor...</td>\n",
       "      <td>unisex_beauty</td>\n",
       "      <td>miller_harris</td>\n",
       "      <td>bath_&amp;_shower</td>\n",
       "      <td>0.072742</td>\n",
       "      <td>26</td>\n",
       "    </tr>\n",
       "  </tbody>\n",
       "</table>\n",
       "</div>"
      ],
      "text/plain": [
       "         id  is_active                                      product_image  \\\n",
       "0  19059370          1  https://storage.googleapis.com/superlinked-rec...   \n",
       "1  19108201          1  https://storage.googleapis.com/superlinked-rec...   \n",
       "2  19126209          1  https://storage.googleapis.com/superlinked-rec...   \n",
       "3  19105206          1  https://storage.googleapis.com/superlinked-rec...   \n",
       "4  18916655          1  https://storage.googleapis.com/superlinked-rec...   \n",
       "\n",
       "                                         description            topic  \\\n",
       "0  MidiShort SleevesV-neckComposition: 100% Polye...  female_clothing   \n",
       "1  A-LineZip FasteningMini LengthComposition: 51%...  female_clothing   \n",
       "2  Kuba rugs draw their inspiration from Zairean ...      unisex_home   \n",
       "3  For exceptional durability, this bespoke duvet...      unisex_home   \n",
       "4  Brand: Miller Harris Product Type: Lumiere Dor...    unisex_beauty   \n",
       "\n",
       "               brand      product_type  popularity  price  \n",
       "0     joseph_ribkoff           dresses    0.034502    199  \n",
       "1       hobbs_london            skirts    0.108556    110  \n",
       "2  louis_de_poortere              rugs    0.076656   1190  \n",
       "3        surrey_down  duvets_&_pillows    0.080633    681  \n",
       "4      miller_harris     bath_&_shower    0.072742     26  "
      ]
     },
     "execution_count": 14,
     "metadata": {},
     "output_type": "execute_result"
    }
   ],
   "source": [
    "products_sample.head()"
   ]
  },
  {
   "cell_type": "markdown",
   "metadata": {},
   "source": [
    "### Get item2vec embeddings"
   ]
  },
  {
   "cell_type": "code",
   "execution_count": 15,
   "metadata": {},
   "outputs": [],
   "source": [
    "def normalize_vec(vec):\n",
    "    if np.linalg.norm(vec) == 0:\n",
    "        return vec\n",
    "    nrom_vec = vec / np.linalg.norm(vec)\n",
    "    return nrom_vec\n",
    "\n",
    "def get_item2vec_vector(row):\n",
    "    try:\n",
    "        item_emb = item2vec_model.wv[str(row['id'])]\n",
    "        return normalize_vec(item_emb).tolist()\n",
    "    except Exception as e:\n",
    "        return np.zeros(100).tolist()\n",
    "\n",
    "products_sample['item_w2v'] = products_sample.apply(get_item2vec_vector, axis=1)"
   ]
  },
  {
   "cell_type": "code",
   "execution_count": 16,
   "metadata": {},
   "outputs": [
    {
     "data": {
      "text/html": [
       "<div>\n",
       "<style scoped>\n",
       "    .dataframe tbody tr th:only-of-type {\n",
       "        vertical-align: middle;\n",
       "    }\n",
       "\n",
       "    .dataframe tbody tr th {\n",
       "        vertical-align: top;\n",
       "    }\n",
       "\n",
       "    .dataframe thead th {\n",
       "        text-align: right;\n",
       "    }\n",
       "</style>\n",
       "<table border=\"1\" class=\"dataframe\">\n",
       "  <thead>\n",
       "    <tr style=\"text-align: right;\">\n",
       "      <th></th>\n",
       "      <th>id</th>\n",
       "      <th>is_active</th>\n",
       "      <th>product_image</th>\n",
       "      <th>description</th>\n",
       "      <th>topic</th>\n",
       "      <th>brand</th>\n",
       "      <th>product_type</th>\n",
       "      <th>popularity</th>\n",
       "      <th>price</th>\n",
       "      <th>item_w2v</th>\n",
       "    </tr>\n",
       "  </thead>\n",
       "  <tbody>\n",
       "    <tr>\n",
       "      <th>0</th>\n",
       "      <td>19059370</td>\n",
       "      <td>1</td>\n",
       "      <td>https://storage.googleapis.com/superlinked-rec...</td>\n",
       "      <td>MidiShort SleevesV-neckComposition: 100% Polye...</td>\n",
       "      <td>female_clothing</td>\n",
       "      <td>joseph_ribkoff</td>\n",
       "      <td>dresses</td>\n",
       "      <td>0.034502</td>\n",
       "      <td>199</td>\n",
       "      <td>[0.12845230102539062, 0.027607589960098267, 0....</td>\n",
       "    </tr>\n",
       "    <tr>\n",
       "      <th>1</th>\n",
       "      <td>19108201</td>\n",
       "      <td>1</td>\n",
       "      <td>https://storage.googleapis.com/superlinked-rec...</td>\n",
       "      <td>A-LineZip FasteningMini LengthComposition: 51%...</td>\n",
       "      <td>female_clothing</td>\n",
       "      <td>hobbs_london</td>\n",
       "      <td>skirts</td>\n",
       "      <td>0.108556</td>\n",
       "      <td>110</td>\n",
       "      <td>[0.0, 0.0, 0.0, 0.0, 0.0, 0.0, 0.0, 0.0, 0.0, ...</td>\n",
       "    </tr>\n",
       "    <tr>\n",
       "      <th>2</th>\n",
       "      <td>19126209</td>\n",
       "      <td>1</td>\n",
       "      <td>https://storage.googleapis.com/superlinked-rec...</td>\n",
       "      <td>Kuba rugs draw their inspiration from Zairean ...</td>\n",
       "      <td>unisex_home</td>\n",
       "      <td>louis_de_poortere</td>\n",
       "      <td>rugs</td>\n",
       "      <td>0.076656</td>\n",
       "      <td>1190</td>\n",
       "      <td>[0.0, 0.0, 0.0, 0.0, 0.0, 0.0, 0.0, 0.0, 0.0, ...</td>\n",
       "    </tr>\n",
       "    <tr>\n",
       "      <th>3</th>\n",
       "      <td>19105206</td>\n",
       "      <td>1</td>\n",
       "      <td>https://storage.googleapis.com/superlinked-rec...</td>\n",
       "      <td>For exceptional durability, this bespoke duvet...</td>\n",
       "      <td>unisex_home</td>\n",
       "      <td>surrey_down</td>\n",
       "      <td>duvets_&amp;_pillows</td>\n",
       "      <td>0.080633</td>\n",
       "      <td>681</td>\n",
       "      <td>[0.0, 0.0, 0.0, 0.0, 0.0, 0.0, 0.0, 0.0, 0.0, ...</td>\n",
       "    </tr>\n",
       "    <tr>\n",
       "      <th>4</th>\n",
       "      <td>18916655</td>\n",
       "      <td>1</td>\n",
       "      <td>https://storage.googleapis.com/superlinked-rec...</td>\n",
       "      <td>Brand: Miller Harris Product Type: Lumiere Dor...</td>\n",
       "      <td>unisex_beauty</td>\n",
       "      <td>miller_harris</td>\n",
       "      <td>bath_&amp;_shower</td>\n",
       "      <td>0.072742</td>\n",
       "      <td>26</td>\n",
       "      <td>[0.20885172486305237, 0.05882904678583145, 0.0...</td>\n",
       "    </tr>\n",
       "  </tbody>\n",
       "</table>\n",
       "</div>"
      ],
      "text/plain": [
       "         id  is_active                                      product_image  \\\n",
       "0  19059370          1  https://storage.googleapis.com/superlinked-rec...   \n",
       "1  19108201          1  https://storage.googleapis.com/superlinked-rec...   \n",
       "2  19126209          1  https://storage.googleapis.com/superlinked-rec...   \n",
       "3  19105206          1  https://storage.googleapis.com/superlinked-rec...   \n",
       "4  18916655          1  https://storage.googleapis.com/superlinked-rec...   \n",
       "\n",
       "                                         description            topic  \\\n",
       "0  MidiShort SleevesV-neckComposition: 100% Polye...  female_clothing   \n",
       "1  A-LineZip FasteningMini LengthComposition: 51%...  female_clothing   \n",
       "2  Kuba rugs draw their inspiration from Zairean ...      unisex_home   \n",
       "3  For exceptional durability, this bespoke duvet...      unisex_home   \n",
       "4  Brand: Miller Harris Product Type: Lumiere Dor...    unisex_beauty   \n",
       "\n",
       "               brand      product_type  popularity  price  \\\n",
       "0     joseph_ribkoff           dresses    0.034502    199   \n",
       "1       hobbs_london            skirts    0.108556    110   \n",
       "2  louis_de_poortere              rugs    0.076656   1190   \n",
       "3        surrey_down  duvets_&_pillows    0.080633    681   \n",
       "4      miller_harris     bath_&_shower    0.072742     26   \n",
       "\n",
       "                                            item_w2v  \n",
       "0  [0.12845230102539062, 0.027607589960098267, 0....  \n",
       "1  [0.0, 0.0, 0.0, 0.0, 0.0, 0.0, 0.0, 0.0, 0.0, ...  \n",
       "2  [0.0, 0.0, 0.0, 0.0, 0.0, 0.0, 0.0, 0.0, 0.0, ...  \n",
       "3  [0.0, 0.0, 0.0, 0.0, 0.0, 0.0, 0.0, 0.0, 0.0, ...  \n",
       "4  [0.20885172486305237, 0.05882904678583145, 0.0...  "
      ]
     },
     "execution_count": 16,
     "metadata": {},
     "output_type": "execute_result"
    }
   ],
   "source": [
    "products_sample.head()"
   ]
  },
  {
   "cell_type": "markdown",
   "metadata": {},
   "source": [
    "### Save data"
   ]
  },
  {
   "cell_type": "markdown",
   "metadata": {},
   "source": [
    "Saving the fields relevant for our use case"
   ]
  },
  {
   "cell_type": "code",
   "execution_count": 57,
   "metadata": {},
   "outputs": [],
   "source": [
    "# keep_fields = [\n",
    "#     'id',\n",
    "#     'is_active',\n",
    "#     'product_image',\n",
    "#     'description',\n",
    "#     'topic',\n",
    "#     'brand',\n",
    "#     'product_type',\n",
    "#     'popularity',\n",
    "#     'item_w2v',\n",
    "# ]\n",
    "# ## save as jsonlines\n",
    "# # products_sample[keep_fields].to_json('../data/source/preprocessed_products_sample.jsonl', orient='records', lines=True)"
   ]
  },
  {
   "cell_type": "markdown",
   "metadata": {},
   "source": [
    "Saving the categories that we will need for the next step - setting up Superlinked schema and index."
   ]
  },
  {
   "cell_type": "markdown",
   "metadata": {},
   "source": [
    "When setting up SuperLinked index - which we will do next, in order to use categorical variables we will need to prefedefine all possbile values for each category space.\n",
    "For this we will save our data categories as a json list which we could extract when building the index."
   ]
  },
  {
   "cell_type": "code",
   "execution_count": 35,
   "metadata": {},
   "outputs": [],
   "source": [
    "with open('../data/categories/brands.json', 'w') as f:\n",
    "    json.dump(products['brand'].unique().tolist(), f)\n",
    "\n",
    "with open('../data/categories/topics.json', 'w') as f:\n",
    "    json.dump(products['topic'].unique().tolist(), f)\n",
    "\n",
    "with open('../data/categories/product_types.json', 'w') as f:\n",
    "    json.dump(products['product_type'].unique().tolist(), f)"
   ]
  }
 ],
 "metadata": {
  "kernelspec": {
   "display_name": ".venv-notebooks",
   "language": "python",
   "name": "python3"
  },
  "language_info": {
   "codemirror_mode": {
    "name": "ipython",
    "version": 3
   },
   "file_extension": ".py",
   "mimetype": "text/x-python",
   "name": "python",
   "nbconvert_exporter": "python",
   "pygments_lexer": "ipython3",
   "version": "3.11.0rc1"
  },
  "orig_nbformat": 4
 },
 "nbformat": 4,
 "nbformat_minor": 2
}
