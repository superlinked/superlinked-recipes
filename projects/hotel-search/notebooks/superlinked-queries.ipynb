{
 "cells": [
  {
   "cell_type": "markdown",
   "metadata": {},
   "source": [
    "Run this notebook in the same virtual environment with superlinked server\n",
    "to ensure the same version of `superlinked` framework."
   ]
  },
  {
   "cell_type": "code",
   "execution_count": 1,
   "metadata": {},
   "outputs": [
    {
     "name": "stdout",
     "output_type": "stream",
     "text": [
      "superlinked==17.2.2\n",
      "superlinked-server==0.7.2\n"
     ]
    }
   ],
   "source": [
    "!pip freeze | grep superlinked"
   ]
  },
  {
   "cell_type": "code",
   "execution_count": 2,
   "metadata": {},
   "outputs": [
    {
     "name": "stdout",
     "output_type": "stream",
     "text": [
      "project_dir is added to sys.path:\n",
      "superlinked-recipes/projects/hotel-search\n"
     ]
    }
   ],
   "source": [
    "from pathlib import Path\n",
    "import sys\n",
    "\n",
    "# depending on the user's setup\n",
    "# we will try to find the superlinked_app directory\n",
    "# and add it to the sys.path\n",
    "\n",
    "cwd = Path.cwd()\n",
    "if cwd.name == \"superlinked-recipes\":\n",
    "    project_dir = cwd / \"projects\" / \"hotel-search\"\n",
    "elif cwd.name == \"notebooks\":\n",
    "    project_dir = cwd.parent\n",
    "else:\n",
    "    project_dir = cwd\n",
    "\n",
    "superlinked_app_dir = project_dir / \"superlinked_app\"\n",
    "assert superlinked_app_dir.exists(), (\n",
    "    f\"{superlinked_app_dir} does not exist\\n\"\n",
    "    \"are you sure you are in the hotel-search/notebooks directory?\"\n",
    ")\n",
    "\n",
    "if str(project_dir) not in sys.path:\n",
    "    sys.path.append(str(project_dir))\n",
    "    print(f\"project_dir is added to sys.path:\\n{project_dir}\")\n",
    "else:\n",
    "    print(f\"project_dir is already in sys.path:\\n{project_dir}\")"
   ]
  },
  {
   "cell_type": "code",
   "execution_count": 3,
   "metadata": {},
   "outputs": [
    {
     "name": "stderr",
     "output_type": "stream",
     "text": [
      "superlinked-recipes/projects/hotel-search/.venv/lib/python3.11/site-packages/tqdm/auto.py:21: TqdmWarning: IProgress not found. Please update jupyter and ipywidgets. See https://ipywidgets.readthedocs.io/en/stable/user_install.html\n",
      "  from .autonotebook import tqdm as notebook_tqdm\n"
     ]
    }
   ],
   "source": [
    "from superlinked import framework as sl\n",
    "\n",
    "from superlinked_app.index import index, hotel_schema\n",
    "from superlinked_app.query import query\n",
    "from superlinked_app.api import vector_database"
   ]
  },
  {
   "cell_type": "code",
   "execution_count": 4,
   "metadata": {},
   "outputs": [],
   "source": [
    "source = sl.InMemorySource(hotel_schema)\n",
    "executor = sl.InteractiveExecutor(\n",
    "    sources=[source],\n",
    "    indices=[index],\n",
    "    vector_database=vector_database,\n",
    ")\n",
    "app = executor.run()"
   ]
  },
  {
   "cell_type": "code",
   "execution_count": 5,
   "metadata": {},
   "outputs": [
    {
     "name": "stdout",
     "output_type": "stream",
     "text": [
      "{'price_weight': 0.0, 'rating_weight': 1.0, 'rating_count_weight': 0.0, 'description_weight': 1.0, 'description': 'Hotel with cozy interior.', 'limit': 3, 'city': ['London'], 'min_price': None, 'max_price': None, 'min_rating': None, 'max_rating': None, 'accomodation_types_include': None, 'accomodation_types_exclude': None, 'property_amenities_include_all': None, 'property_amenities_include_any': ['Pets allowed'], 'property_amenities_exclude': None, 'room_amenities_include_all': None, 'room_amenities_include_any': None, 'room_amenities_exclude': None, 'wellness_spa_include_all': None, 'wellness_spa_include_any': None, 'wellness_spa_exclude': None, 'accessibility_include_all': None, 'accessibility_include_any': None, 'accessibility_exclude': None, 'for_children_include_all': None, 'for_children_include_any': None, 'for_children_exclude': None, 'natural_query': 'well rated pet friendly hotel in london, cozy interior', 'system_prompt_param': \"Extract the search parameters from the user query.\\nAdvices:\\n**'include' and 'exclude' attributes**\\nUse relevant amenities, for example, include 'Cot' when user mentions 'baby',and exclude it when user mentions 'no children'.\\nIf no amenities are mentioned, use None for 'include' and 'exclude'.\\n**'accomodation_type'**\\nIf users searches for some hotels, include 'Hotel' in accomodation types, same for other accomodation types.\\n\", 'radius_param': None, 'similar_description_weight': 1.0}\n"
     ]
    },
    {
     "data": {
      "text/html": [
       "<div>\n",
       "<style scoped>\n",
       "    .dataframe tbody tr th:only-of-type {\n",
       "        vertical-align: middle;\n",
       "    }\n",
       "\n",
       "    .dataframe tbody tr th {\n",
       "        vertical-align: top;\n",
       "    }\n",
       "\n",
       "    .dataframe thead th {\n",
       "        text-align: right;\n",
       "    }\n",
       "</style>\n",
       "<table border=\"1\" class=\"dataframe\">\n",
       "  <thead>\n",
       "    <tr style=\"text-align: right;\">\n",
       "      <th></th>\n",
       "      <th>description</th>\n",
       "      <th>price</th>\n",
       "      <th>rating</th>\n",
       "      <th>rating_count</th>\n",
       "      <th>accomodation_type</th>\n",
       "      <th>property_amenities</th>\n",
       "      <th>room_amenities</th>\n",
       "      <th>wellness_spa</th>\n",
       "      <th>accessibility</th>\n",
       "      <th>for_children</th>\n",
       "      <th>city</th>\n",
       "      <th>country</th>\n",
       "      <th>id</th>\n",
       "      <th>similarity_score</th>\n",
       "      <th>rank</th>\n",
       "    </tr>\n",
       "  </thead>\n",
       "  <tbody>\n",
       "    <tr>\n",
       "      <th>0</th>\n",
       "      <td>Hotel Cafe Royal has been around since 1865 an...</td>\n",
       "      <td>834</td>\n",
       "      <td>9.6</td>\n",
       "      <td>5630</td>\n",
       "      <td>Hotel</td>\n",
       "      <td>[24-hour reception, 24-hour room service, Bell...</td>\n",
       "      <td>[Air conditioning, Cable TV, Central heating, ...</td>\n",
       "      <td>[Beauty salon, Body treatments, Hammam, Hot st...</td>\n",
       "      <td>[Accessible hotel, Accessible parking, Wheelch...</td>\n",
       "      <td>[Childcare, Cot, Kids' club, Playground]</td>\n",
       "      <td>London</td>\n",
       "      <td>United Kingdom</td>\n",
       "      <td>Hotel Cafe Royal</td>\n",
       "      <td>0.829669</td>\n",
       "      <td>0</td>\n",
       "    </tr>\n",
       "    <tr>\n",
       "      <th>1</th>\n",
       "      <td>A stellar renovation of an iconic Edwardian to...</td>\n",
       "      <td>220</td>\n",
       "      <td>9.0</td>\n",
       "      <td>5540</td>\n",
       "      <td>Serviced apartment</td>\n",
       "      <td>[24-hour reception, Breakfast, Cashless paymen...</td>\n",
       "      <td>[Air conditioning, Cable TV, Central heating, ...</td>\n",
       "      <td>[]</td>\n",
       "      <td>[Accessible hotel, Wheelchair accessible]</td>\n",
       "      <td>[Cot]</td>\n",
       "      <td>London</td>\n",
       "      <td>United Kingdom</td>\n",
       "      <td>Town Hall Hotel - Shoreditch</td>\n",
       "      <td>0.822555</td>\n",
       "      <td>1</td>\n",
       "    </tr>\n",
       "    <tr>\n",
       "      <th>2</th>\n",
       "      <td>One of oldest hotel in London, Flemings is a 4...</td>\n",
       "      <td>400</td>\n",
       "      <td>8.8</td>\n",
       "      <td>10176</td>\n",
       "      <td>Hotel</td>\n",
       "      <td>[24-hour reception, Breakfast, Business centre...</td>\n",
       "      <td>[Air conditioning, Cable TV, Central heating, ...</td>\n",
       "      <td>[Beauty salon, Massage]</td>\n",
       "      <td>[Accessible hotel, Wheelchair accessible]</td>\n",
       "      <td>[]</td>\n",
       "      <td>London</td>\n",
       "      <td>United Kingdom</td>\n",
       "      <td>Flemings Mayfair - Small Luxury Hotel of the W...</td>\n",
       "      <td>0.818173</td>\n",
       "      <td>2</td>\n",
       "    </tr>\n",
       "  </tbody>\n",
       "</table>\n",
       "</div>"
      ],
      "text/plain": [
       "                                         description  price  rating  \\\n",
       "0  Hotel Cafe Royal has been around since 1865 an...    834     9.6   \n",
       "1  A stellar renovation of an iconic Edwardian to...    220     9.0   \n",
       "2  One of oldest hotel in London, Flemings is a 4...    400     8.8   \n",
       "\n",
       "   rating_count   accomodation_type  \\\n",
       "0          5630               Hotel   \n",
       "1          5540  Serviced apartment   \n",
       "2         10176               Hotel   \n",
       "\n",
       "                                  property_amenities  \\\n",
       "0  [24-hour reception, 24-hour room service, Bell...   \n",
       "1  [24-hour reception, Breakfast, Cashless paymen...   \n",
       "2  [24-hour reception, Breakfast, Business centre...   \n",
       "\n",
       "                                      room_amenities  \\\n",
       "0  [Air conditioning, Cable TV, Central heating, ...   \n",
       "1  [Air conditioning, Cable TV, Central heating, ...   \n",
       "2  [Air conditioning, Cable TV, Central heating, ...   \n",
       "\n",
       "                                        wellness_spa  \\\n",
       "0  [Beauty salon, Body treatments, Hammam, Hot st...   \n",
       "1                                                 []   \n",
       "2                            [Beauty salon, Massage]   \n",
       "\n",
       "                                       accessibility  \\\n",
       "0  [Accessible hotel, Accessible parking, Wheelch...   \n",
       "1          [Accessible hotel, Wheelchair accessible]   \n",
       "2          [Accessible hotel, Wheelchair accessible]   \n",
       "\n",
       "                               for_children    city         country  \\\n",
       "0  [Childcare, Cot, Kids' club, Playground]  London  United Kingdom   \n",
       "1                                     [Cot]  London  United Kingdom   \n",
       "2                                        []  London  United Kingdom   \n",
       "\n",
       "                                                  id  similarity_score  rank  \n",
       "0                                   Hotel Cafe Royal          0.829669     0  \n",
       "1                       Town Hall Hotel - Shoreditch          0.822555     1  \n",
       "2  Flemings Mayfair - Small Luxury Hotel of the W...          0.818173     2  "
      ]
     },
     "execution_count": 5,
     "metadata": {},
     "output_type": "execute_result"
    }
   ],
   "source": [
    "params = {\n",
    "    \"natural_query\": \"well rated pet friendly hotel in london, cozy interior\",\n",
    "    \"limit\": 3,\n",
    "}\n",
    "\n",
    "result = app.query(query, **params)\n",
    "print(result.knn_params)\n",
    "result.to_pandas()"
   ]
  },
  {
   "cell_type": "markdown",
   "metadata": {},
   "source": [
    "### Partial scores"
   ]
  },
  {
   "cell_type": "code",
   "execution_count": 6,
   "metadata": {},
   "outputs": [],
   "source": [
    "from superlinked.framework.dsl.executor.query.query_executor import (\n",
    "    QueryExecutor,\n",
    "    QueryDescriptor,\n",
    "    QueryParamValueSetter,\n",
    "    QueryVectorFactory,\n",
    ")\n",
    "from superlinked.evaluation.vector_sampler import VectorCollection\n",
    "from superlinked.framework.dsl.space.space import Space\n",
    "\n",
    "import numpy as np\n",
    "import pandas as pd"
   ]
  },
  {
   "cell_type": "code",
   "execution_count": 7,
   "metadata": {},
   "outputs": [],
   "source": [
    "def get_query_vector(\n",
    "    index: sl.Index,\n",
    "    app: sl.InteractiveExecutor,\n",
    "    query_descriptor: QueryDescriptor,\n",
    "    params: dict,\n",
    "):\n",
    "    query_vector_factory = QueryVectorFactory(index._dag)\n",
    "    query_executor = QueryExecutor(app, query_descriptor, query_vector_factory)\n",
    "    query_descriptor = QueryParamValueSetter.set_values(query_descriptor, params)\n",
    "    query_vector = query_executor._produce_query_vector(query_descriptor)\n",
    "    return query_vector\n",
    "\n",
    "\n",
    "def get_partial_scores(\n",
    "    spaces: list[Space], stored_vectors: VectorCollection, query_vector: np.ndarray\n",
    ") -> dict[str, dict[str, float]]:\n",
    "\n",
    "    i_start = 0\n",
    "    partial_scores = {}\n",
    "    ids = stored_vectors.id_list\n",
    "\n",
    "    for space in spaces:\n",
    "        fields = list(space._field_set)\n",
    "        assert len(fields) == 1\n",
    "        name = fields[0].name\n",
    "        i_end = i_start + space.length\n",
    "        v_space = stored_vectors.vectors[:, i_start:i_end]\n",
    "        q_space = query_vector[i_start:i_end]\n",
    "        partial_scores_space = np.dot(v_space, q_space)\n",
    "\n",
    "        partial_scores[name] = {id: x for id, x in zip(ids, partial_scores_space)}\n",
    "        i_start = i_end\n",
    "\n",
    "    return partial_scores"
   ]
  },
  {
   "cell_type": "code",
   "execution_count": 8,
   "metadata": {},
   "outputs": [],
   "source": [
    "vector_sampler = sl.VectorSampler(app)"
   ]
  },
  {
   "cell_type": "code",
   "execution_count": 9,
   "metadata": {},
   "outputs": [
    {
     "name": "stdout",
     "output_type": "stream",
     "text": [
      "{'price_weight': 0.0, 'rating_weight': 1.0, 'rating_count_weight': 0.0, 'description_weight': 1.0, 'description': 'Hotel with cozy interior.', 'limit': 3, 'city': ['London'], 'min_price': None, 'max_price': None, 'min_rating': None, 'max_rating': None, 'accomodation_types_include': None, 'accomodation_types_exclude': None, 'property_amenities_include_all': None, 'property_amenities_include_any': ['Pets allowed'], 'property_amenities_exclude': None, 'room_amenities_include_all': None, 'room_amenities_include_any': None, 'room_amenities_exclude': None, 'wellness_spa_include_all': None, 'wellness_spa_include_any': None, 'wellness_spa_exclude': None, 'accessibility_include_all': None, 'accessibility_include_any': None, 'accessibility_exclude': None, 'for_children_include_all': None, 'for_children_include_any': None, 'for_children_exclude': None, 'similar_description_weight': 1.0}\n"
     ]
    }
   ],
   "source": [
    "params = {\n",
    "    \"natural_query\": \"well rated pet friendly hotel in london, cozy interior\",\n",
    "    \"limit\": 3,\n",
    "}\n",
    "\n",
    "query_descriptor = QueryParamValueSetter.set_values(query, params)\n",
    "knn_params = query_descriptor.calculate_value_by_param_name()\n",
    "\n",
    "knn_params.pop(\"natural_query\")\n",
    "knn_params.pop(\"radius_param\")\n",
    "knn_params.pop(\"system_prompt_param\")\n",
    "\n",
    "print(knn_params)"
   ]
  },
  {
   "cell_type": "code",
   "execution_count": 10,
   "metadata": {},
   "outputs": [],
   "source": [
    "result = app.query(query, **knn_params)\n",
    "ids = [e.header.object_id for e in result.entities]\n",
    "\n",
    "query_vector = get_query_vector(index, app, query, knn_params).value.flatten()\n",
    "\n",
    "stored_vectors: VectorCollection = vector_sampler.get_vectors_by_ids(\n",
    "    id_=ids,\n",
    "    index=index,\n",
    "    schema=hotel_schema,\n",
    ")"
   ]
  },
  {
   "cell_type": "code",
   "execution_count": 11,
   "metadata": {},
   "outputs": [
    {
     "data": {
      "text/html": [
       "<div>\n",
       "<style scoped>\n",
       "    .dataframe tbody tr th:only-of-type {\n",
       "        vertical-align: middle;\n",
       "    }\n",
       "\n",
       "    .dataframe tbody tr th {\n",
       "        vertical-align: top;\n",
       "    }\n",
       "\n",
       "    .dataframe thead th {\n",
       "        text-align: right;\n",
       "    }\n",
       "</style>\n",
       "<table border=\"1\" class=\"dataframe\">\n",
       "  <thead>\n",
       "    <tr style=\"text-align: right;\">\n",
       "      <th></th>\n",
       "      <th>description</th>\n",
       "      <th>price</th>\n",
       "      <th>rating</th>\n",
       "      <th>rating_count</th>\n",
       "    </tr>\n",
       "  </thead>\n",
       "  <tbody>\n",
       "    <tr>\n",
       "      <th>Hotel Cafe Royal</th>\n",
       "      <td>0.330655</td>\n",
       "      <td>0.0</td>\n",
       "      <td>0.499013</td>\n",
       "      <td>0.0</td>\n",
       "    </tr>\n",
       "    <tr>\n",
       "      <th>Town Hall Hotel - Shoreditch</th>\n",
       "      <td>0.328711</td>\n",
       "      <td>0.0</td>\n",
       "      <td>0.493844</td>\n",
       "      <td>0.0</td>\n",
       "    </tr>\n",
       "    <tr>\n",
       "      <th>Flemings Mayfair - Small Luxury Hotel of the World</th>\n",
       "      <td>0.327029</td>\n",
       "      <td>0.0</td>\n",
       "      <td>0.491144</td>\n",
       "      <td>0.0</td>\n",
       "    </tr>\n",
       "  </tbody>\n",
       "</table>\n",
       "</div>"
      ],
      "text/plain": [
       "                                                    description  price  \\\n",
       "Hotel Cafe Royal                                       0.330655    0.0   \n",
       "Town Hall Hotel - Shoreditch                           0.328711    0.0   \n",
       "Flemings Mayfair - Small Luxury Hotel of the World     0.327029    0.0   \n",
       "\n",
       "                                                      rating  rating_count  \n",
       "Hotel Cafe Royal                                    0.499013           0.0  \n",
       "Town Hall Hotel - Shoreditch                        0.493844           0.0  \n",
       "Flemings Mayfair - Small Luxury Hotel of the World  0.491144           0.0  "
      ]
     },
     "execution_count": 11,
     "metadata": {},
     "output_type": "execute_result"
    }
   ],
   "source": [
    "partial_scores = get_partial_scores(index._spaces, stored_vectors, query_vector)\n",
    "df_partial_scores = pd.DataFrame(partial_scores)\n",
    "df_partial_scores"
   ]
  }
 ],
 "metadata": {
  "kernelspec": {
   "display_name": "Python 3 (ipykernel)",
   "language": "python",
   "name": "python3"
  },
  "language_info": {
   "codemirror_mode": {
    "name": "ipython",
    "version": 3
   },
   "file_extension": ".py",
   "mimetype": "text/x-python",
   "name": "python",
   "nbconvert_exporter": "python",
   "pygments_lexer": "ipython3",
   "version": "3.11.9"
  }
 },
 "nbformat": 4,
 "nbformat_minor": 4
}
