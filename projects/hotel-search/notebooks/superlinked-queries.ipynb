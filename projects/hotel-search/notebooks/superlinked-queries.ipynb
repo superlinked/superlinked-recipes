{
 "cells": [
  {
   "cell_type": "markdown",
   "metadata": {},
   "source": [
    "Run this notebook in the same virtual environment with superlinked server\n",
    "to ensure the same version of `superlinked` framework."
   ]
  },
  {
   "cell_type": "code",
   "execution_count": 1,
   "metadata": {},
   "outputs": [
    {
     "name": "stdout",
     "output_type": "stream",
     "text": [
      "superlinked==19.14.3\n",
      "superlinked-server==1.5.0\n"
     ]
    }
   ],
   "source": [
    "!pip freeze | grep superlinked"
   ]
  },
  {
   "cell_type": "code",
   "execution_count": 2,
   "metadata": {},
   "outputs": [
    {
     "name": "stdout",
     "output_type": "stream",
     "text": [
      "project_dir is added to sys.path\n"
     ]
    }
   ],
   "source": [
    "from pathlib import Path\n",
    "import sys\n",
    "\n",
    "# depending on the user's setup\n",
    "# we will try to find the superlinked_app directory\n",
    "# and add it to the sys.path\n",
    "\n",
    "cwd = Path.cwd()\n",
    "if cwd.name == \"superlinked-recipes\":\n",
    "    project_dir = cwd / \"projects\" / \"hotel-search\"\n",
    "elif cwd.name == \"notebooks\":\n",
    "    project_dir = cwd.parent\n",
    "else:\n",
    "    project_dir = cwd\n",
    "\n",
    "superlinked_app_dir = project_dir / \"superlinked_app\"\n",
    "assert superlinked_app_dir.exists(), (\n",
    "    f\"{superlinked_app_dir} does not exist\\n\"\n",
    "    \"are you sure you are in the hotel-search/notebooks directory?\"\n",
    ")\n",
    "\n",
    "if str(project_dir) not in sys.path:\n",
    "    sys.path.append(str(project_dir))\n",
    "    print(\"project_dir is added to sys.path\")\n",
    "else:\n",
    "    print(\"project_dir is already in sys.path\")"
   ]
  },
  {
   "cell_type": "code",
   "execution_count": 3,
   "metadata": {},
   "outputs": [],
   "source": [
    "from superlinked import framework as sl\n",
    "\n",
    "from superlinked_app.index import index, hotel_schema\n",
    "from superlinked_app.query import query\n",
    "from superlinked_app.api import vector_database\n",
    "\n",
    "import pandas as pd"
   ]
  },
  {
   "cell_type": "code",
   "execution_count": 4,
   "metadata": {},
   "outputs": [],
   "source": [
    "source = sl.InteractiveSource(hotel_schema)\n",
    "executor = sl.InteractiveExecutor(\n",
    "    sources=[source],\n",
    "    indices=[index],\n",
    "    vector_database=vector_database,\n",
    ")\n",
    "app = executor.run()"
   ]
  },
  {
   "cell_type": "code",
   "execution_count": 5,
   "metadata": {},
   "outputs": [
    {
     "name": "stdout",
     "output_type": "stream",
     "text": [
      "{'price_weight': 0.0, 'rating_weight': 1.0, 'rating_count_weight': 0.0, 'description_weight': 1.0, 'description': 'Pet-friendly hotel with cozy interior.', 'limit': 3, 'select_param__': ['description', 'price', 'rating', 'rating_count', 'accomodation_type', 'property_amenities', 'room_amenities', 'wellness_spa', 'accessibility', 'for_children', 'city', 'country'], 'city': 'London', 'min_price': None, 'max_price': None, 'min_rating': None, 'max_rating': None, 'accomodation_types_include': 'Hotel', 'accomodation_types_exclude': None, 'property_amenities_include_all': ['Pets allowed'], 'property_amenities_include_any': None, 'property_amenities_exclude': None, 'room_amenities_include_all': None, 'room_amenities_include_any': None, 'room_amenities_exclude': None, 'wellness_spa_include_all': None, 'wellness_spa_include_any': None, 'wellness_spa_exclude': None, 'accessibility_include_all': None, 'accessibility_include_any': None, 'accessibility_exclude': None, 'for_children_include_all': None, 'for_children_include_any': None, 'for_children_exclude': None, 'natural_query': 'well rated pet friendly hotel in london, cozy interior', 'system_prompt_param__': \"Extract the search parameters from the user query.\\nAdvices:\\n**'include' and 'exclude' attributes**\\nUse relevant amenities, for example, include 'Cot' when user mentions 'baby',and exclude it when user mentions 'no children'.\\nIf no amenities are mentioned, use None for 'include' and 'exclude'.\\n**'accomodation_type'**\\nIf users searches for some hotels, include 'Hotel' in accomodation types, same for other accomodation types.\\n\", 'radius_param__': None, 'similar_description_weight': 1.0}\n"
     ]
    },
    {
     "data": {
      "text/html": [
       "<div>\n",
       "<style scoped>\n",
       "    .dataframe tbody tr th:only-of-type {\n",
       "        vertical-align: middle;\n",
       "    }\n",
       "\n",
       "    .dataframe tbody tr th {\n",
       "        vertical-align: top;\n",
       "    }\n",
       "\n",
       "    .dataframe thead th {\n",
       "        text-align: right;\n",
       "    }\n",
       "</style>\n",
       "<table border=\"1\" class=\"dataframe\">\n",
       "  <thead>\n",
       "    <tr style=\"text-align: right;\">\n",
       "      <th></th>\n",
       "      <th>description</th>\n",
       "      <th>price</th>\n",
       "      <th>rating</th>\n",
       "      <th>rating_count</th>\n",
       "      <th>accomodation_type</th>\n",
       "      <th>property_amenities</th>\n",
       "      <th>room_amenities</th>\n",
       "      <th>wellness_spa</th>\n",
       "      <th>accessibility</th>\n",
       "      <th>for_children</th>\n",
       "      <th>city</th>\n",
       "      <th>country</th>\n",
       "      <th>id</th>\n",
       "      <th>similarity_score</th>\n",
       "    </tr>\n",
       "  </thead>\n",
       "  <tbody>\n",
       "    <tr>\n",
       "      <th>0</th>\n",
       "      <td>Welcome to Canopy by Hilton London City, an im...</td>\n",
       "      <td>145.0</td>\n",
       "      <td>9.4</td>\n",
       "      <td>3119</td>\n",
       "      <td>Hotel</td>\n",
       "      <td>[24-hour reception, 24-hour room service, Busi...</td>\n",
       "      <td>[Air conditioning, Bathtub, Cable TV, Central ...</td>\n",
       "      <td>[]</td>\n",
       "      <td>[Accessible bathroom, Accessible hotel, In-roo...</td>\n",
       "      <td>[Cot]</td>\n",
       "      <td>London</td>\n",
       "      <td>United Kingdom</td>\n",
       "      <td>Canopy by Hilton London City</td>\n",
       "      <td>0.798498</td>\n",
       "    </tr>\n",
       "    <tr>\n",
       "      <th>1</th>\n",
       "      <td>Begin your day with a scrumptious on-site brea...</td>\n",
       "      <td>120.0</td>\n",
       "      <td>9.1</td>\n",
       "      <td>1867</td>\n",
       "      <td>Hotel</td>\n",
       "      <td>[24-hour reception, Café, Cashless payment, Co...</td>\n",
       "      <td>[Air conditioning, Balcony, Central heating, F...</td>\n",
       "      <td>[]</td>\n",
       "      <td>[Wheelchair accessible]</td>\n",
       "      <td>[Cot]</td>\n",
       "      <td>London</td>\n",
       "      <td>United Kingdom</td>\n",
       "      <td>The Gantry London, Curio Collection By Hilton</td>\n",
       "      <td>0.793067</td>\n",
       "    </tr>\n",
       "    <tr>\n",
       "      <th>2</th>\n",
       "      <td>The Marylebone is centrally located in the hea...</td>\n",
       "      <td>327.0</td>\n",
       "      <td>8.9</td>\n",
       "      <td>7258</td>\n",
       "      <td>Hotel</td>\n",
       "      <td>[24-hour reception, Breakfast, Business centre...</td>\n",
       "      <td>[Air conditioning, Bathtub, Cable TV, Central ...</td>\n",
       "      <td>[Sauna]</td>\n",
       "      <td>[Accessible hotel, Wheelchair accessible]</td>\n",
       "      <td>[Childcare]</td>\n",
       "      <td>London</td>\n",
       "      <td>United Kingdom</td>\n",
       "      <td>The Marylebone Hotel</td>\n",
       "      <td>0.789340</td>\n",
       "    </tr>\n",
       "  </tbody>\n",
       "</table>\n",
       "</div>"
      ],
      "text/plain": [
       "                                         description  price  rating  \\\n",
       "0  Welcome to Canopy by Hilton London City, an im...  145.0     9.4   \n",
       "1  Begin your day with a scrumptious on-site brea...  120.0     9.1   \n",
       "2  The Marylebone is centrally located in the hea...  327.0     8.9   \n",
       "\n",
       "   rating_count accomodation_type  \\\n",
       "0          3119             Hotel   \n",
       "1          1867             Hotel   \n",
       "2          7258             Hotel   \n",
       "\n",
       "                                  property_amenities  \\\n",
       "0  [24-hour reception, 24-hour room service, Busi...   \n",
       "1  [24-hour reception, Café, Cashless payment, Co...   \n",
       "2  [24-hour reception, Breakfast, Business centre...   \n",
       "\n",
       "                                      room_amenities wellness_spa  \\\n",
       "0  [Air conditioning, Bathtub, Cable TV, Central ...           []   \n",
       "1  [Air conditioning, Balcony, Central heating, F...           []   \n",
       "2  [Air conditioning, Bathtub, Cable TV, Central ...      [Sauna]   \n",
       "\n",
       "                                       accessibility for_children    city  \\\n",
       "0  [Accessible bathroom, Accessible hotel, In-roo...        [Cot]  London   \n",
       "1                            [Wheelchair accessible]        [Cot]  London   \n",
       "2          [Accessible hotel, Wheelchair accessible]  [Childcare]  London   \n",
       "\n",
       "          country                                             id  \\\n",
       "0  United Kingdom                   Canopy by Hilton London City   \n",
       "1  United Kingdom  The Gantry London, Curio Collection By Hilton   \n",
       "2  United Kingdom                           The Marylebone Hotel   \n",
       "\n",
       "   similarity_score  \n",
       "0          0.798498  \n",
       "1          0.793067  \n",
       "2          0.789340  "
      ]
     },
     "execution_count": 5,
     "metadata": {},
     "output_type": "execute_result"
    }
   ],
   "source": [
    "params = {\n",
    "    \"natural_query\": \"well rated pet friendly hotel in london, cozy interior\",\n",
    "    \"limit\": 3,\n",
    "}\n",
    "\n",
    "result = app.query(query, **params)\n",
    "print(result.metadata.search_params)\n",
    "sl.PandasConverter.to_pandas(result)"
   ]
  },
  {
   "cell_type": "code",
   "execution_count": 6,
   "metadata": {},
   "outputs": [
    {
     "data": {
      "text/html": [
       "<div>\n",
       "<style scoped>\n",
       "    .dataframe tbody tr th:only-of-type {\n",
       "        vertical-align: middle;\n",
       "    }\n",
       "\n",
       "    .dataframe tbody tr th {\n",
       "        vertical-align: top;\n",
       "    }\n",
       "\n",
       "    .dataframe thead th {\n",
       "        text-align: right;\n",
       "    }\n",
       "</style>\n",
       "<table border=\"1\" class=\"dataframe\">\n",
       "  <thead>\n",
       "    <tr style=\"text-align: right;\">\n",
       "      <th></th>\n",
       "      <th>id</th>\n",
       "      <th>description</th>\n",
       "      <th>price</th>\n",
       "      <th>rating</th>\n",
       "      <th>rating_count</th>\n",
       "    </tr>\n",
       "  </thead>\n",
       "  <tbody>\n",
       "    <tr>\n",
       "      <th>0</th>\n",
       "      <td>Canopy by Hilton London City</td>\n",
       "      <td>0.300717</td>\n",
       "      <td>0.0</td>\n",
       "      <td>0.497781</td>\n",
       "      <td>0.0</td>\n",
       "    </tr>\n",
       "    <tr>\n",
       "      <th>1</th>\n",
       "      <td>The Gantry London, Curio Collection By Hilton</td>\n",
       "      <td>0.298055</td>\n",
       "      <td>0.0</td>\n",
       "      <td>0.495012</td>\n",
       "      <td>0.0</td>\n",
       "    </tr>\n",
       "    <tr>\n",
       "      <th>2</th>\n",
       "      <td>The Marylebone Hotel</td>\n",
       "      <td>0.296786</td>\n",
       "      <td>0.0</td>\n",
       "      <td>0.492555</td>\n",
       "      <td>0.0</td>\n",
       "    </tr>\n",
       "  </tbody>\n",
       "</table>\n",
       "</div>"
      ],
      "text/plain": [
       "                                              id  description  price  \\\n",
       "0                   Canopy by Hilton London City     0.300717    0.0   \n",
       "1  The Gantry London, Curio Collection By Hilton     0.298055    0.0   \n",
       "2                           The Marylebone Hotel     0.296786    0.0   \n",
       "\n",
       "     rating  rating_count  \n",
       "0  0.497781           0.0  \n",
       "1  0.495012           0.0  \n",
       "2  0.492555           0.0  "
      ]
     },
     "execution_count": 6,
     "metadata": {},
     "output_type": "execute_result"
    }
   ],
   "source": [
    "rows = []\n",
    "\n",
    "space_names = [\"description\", \"price\", \"rating\", \"rating_count\"]\n",
    "# order of spaces is the same as during index creation\n",
    "\n",
    "for entry in result.entries:\n",
    "    partial_scores = dict(zip(space_names, entry.metadata.partial_scores))\n",
    "    row = {\"id\": entry.id, **partial_scores}\n",
    "    rows.append(row)\n",
    "\n",
    "df = pd.DataFrame(rows)\n",
    "df"
   ]
  }
 ],
 "metadata": {
  "kernelspec": {
   "display_name": ".venv",
   "language": "python",
   "name": "python3"
  },
  "language_info": {
   "codemirror_mode": {
    "name": "ipython",
    "version": 3
   },
   "file_extension": ".py",
   "mimetype": "text/x-python",
   "name": "python",
   "nbconvert_exporter": "python",
   "pygments_lexer": "ipython3",
   "version": "3.11.11"
  }
 },
 "nbformat": 4,
 "nbformat_minor": 4
}
